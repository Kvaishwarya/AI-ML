{
  "nbformat": 4,
  "nbformat_minor": 0,
  "metadata": {
    "colab": {
      "provenance": [],
      "authorship_tag": "ABX9TyMPVUlXE42BfCo5YeqRAWnC",
      "include_colab_link": true
    },
    "kernelspec": {
      "name": "python3",
      "display_name": "Python 3"
    },
    "language_info": {
      "name": "python"
    }
  },
  "cells": [
    {
      "cell_type": "markdown",
      "metadata": {
        "id": "view-in-github",
        "colab_type": "text"
      },
      "source": [
        "<a href=\"https://colab.research.google.com/github/Kvaishwarya/AI-ML/blob/main/temporalpatternds.ipynb\" target=\"_parent\"><img src=\"https://colab.research.google.com/assets/colab-badge.svg\" alt=\"Open In Colab\"/></a>"
      ]
    },
    {
      "cell_type": "code",
      "source": [
        "import pandas as pd\n",
        "import random\n",
        "from datetime import datetime, timedelta\n",
        "from google.colab import files\n",
        "\n",
        "# Step 1: Load the uploaded dataset\n",
        "data = pd.read_csv('/lib/Mall_Customers.csv')\n",
        "\n",
        "# Step 2: Define a date range for transaction dates\n",
        "start_date = datetime(2021, 1, 1)\n",
        "end_date = datetime(2023, 12, 31)\n",
        "\n",
        "# Step 3: Generate random dates for each transaction\n",
        "def random_date(start, end):\n",
        "    return start + timedelta(days=random.randint(0, (end - start).days))\n",
        "\n",
        "data['TransactionDate'] = [random_date(start_date, end_date) for _ in range(len(data))]\n",
        "\n",
        "# Step 4: Define a function to categorize spending scores\n",
        "def categorize_spending(score):\n",
        "    if score >= 70:\n",
        "        return 'High'\n",
        "    elif score <= 30:\n",
        "        return 'Low'\n",
        "    else:\n",
        "        return 'Seasonal'\n",
        "\n",
        "# Step 5: Apply the function to create the Temporal Pattern column\n",
        "data['Temporal Pattern'] = data['Spending Score (1-100)'].apply(categorize_spending)\n",
        "\n",
        "# Step 6: Add additional features if needed (e.g., Month from TransactionDate)\n",
        "data['Month'] = data['TransactionDate'].dt.strftime('%B')\n",
        "\n",
        "# Step 7: Save the updated dataset to a new CSV file\n",
        "data.to_csv('Mall_Customers_Updated.csv', index=False)\n",
        "\n",
        "# Step 8: Download the updated dataset\n",
        "files.download('Mall_Customers_Updated.csv')\n",
        "\n",
        "print(\"Dataset saved and ready for download!\")\n"
      ],
      "metadata": {
        "colab": {
          "base_uri": "https://localhost:8080/",
          "height": 34
        },
        "id": "JS7gC4Go4zQw",
        "outputId": "58071079-dba8-4837-e9f6-3e33e025f387"
      },
      "execution_count": null,
      "outputs": [
        {
          "output_type": "display_data",
          "data": {
            "text/plain": [
              "<IPython.core.display.Javascript object>"
            ],
            "application/javascript": [
              "\n",
              "    async function download(id, filename, size) {\n",
              "      if (!google.colab.kernel.accessAllowed) {\n",
              "        return;\n",
              "      }\n",
              "      const div = document.createElement('div');\n",
              "      const label = document.createElement('label');\n",
              "      label.textContent = `Downloading \"${filename}\": `;\n",
              "      div.appendChild(label);\n",
              "      const progress = document.createElement('progress');\n",
              "      progress.max = size;\n",
              "      div.appendChild(progress);\n",
              "      document.body.appendChild(div);\n",
              "\n",
              "      const buffers = [];\n",
              "      let downloaded = 0;\n",
              "\n",
              "      const channel = await google.colab.kernel.comms.open(id);\n",
              "      // Send a message to notify the kernel that we're ready.\n",
              "      channel.send({})\n",
              "\n",
              "      for await (const message of channel.messages) {\n",
              "        // Send a message to notify the kernel that we're ready.\n",
              "        channel.send({})\n",
              "        if (message.buffers) {\n",
              "          for (const buffer of message.buffers) {\n",
              "            buffers.push(buffer);\n",
              "            downloaded += buffer.byteLength;\n",
              "            progress.value = downloaded;\n",
              "          }\n",
              "        }\n",
              "      }\n",
              "      const blob = new Blob(buffers, {type: 'application/binary'});\n",
              "      const a = document.createElement('a');\n",
              "      a.href = window.URL.createObjectURL(blob);\n",
              "      a.download = filename;\n",
              "      div.appendChild(a);\n",
              "      a.click();\n",
              "      div.remove();\n",
              "    }\n",
              "  "
            ]
          },
          "metadata": {}
        },
        {
          "output_type": "display_data",
          "data": {
            "text/plain": [
              "<IPython.core.display.Javascript object>"
            ],
            "application/javascript": [
              "download(\"download_ad5e3c34-4f82-442e-af4b-cb6ac98d306b\", \"Mall_Customers_Updated.csv\", 8820)"
            ]
          },
          "metadata": {}
        },
        {
          "output_type": "stream",
          "name": "stdout",
          "text": [
            "Dataset saved and ready for download!\n"
          ]
        }
      ]
    }
  ]
}